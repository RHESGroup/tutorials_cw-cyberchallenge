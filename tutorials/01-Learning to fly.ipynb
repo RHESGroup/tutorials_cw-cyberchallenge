{
 "cells": [
  {
   "cell_type": "markdown",
   "id": "78e8fc15",
   "metadata": {},
   "source": [
    "<img src=\"./img/CCIT_Logo.png\" alt=\"CCit Logo\" width=400>"
   ]
  },
  {
   "cell_type": "markdown",
   "id": "eff8014d",
   "metadata": {},
   "source": [
    "# 01 - Learning To Fly ✈️"
   ]
  },
  {
   "cell_type": "markdown",
   "id": "31d46333",
   "metadata": {},
   "source": [
    "## ⚠️ Prerequisites\n",
    "\n",
    "Hol' up - before continuing, ensure you have done the following:\n",
    "\n",
    "* ☑ Read the introduction to the course in the [00-Intro](./00-Intro.ipynb) notebook.\n",
    "\n",
    "### 📑 Summary\n",
    "\n",
    "*In this lab, you'll learn what is Jupyter and how to interact with a Jupyter Notebook. You'll learn how to create and move cells, how to run code snippets, how to display (interactive) graphs etc!*\n",
    "*Finally, you will also learn __how to use the CyberChallenge library__ to interact with the remote [ChipWhisperer hardware board](https://www.newae.com/chipwhisperer). This will come handy in the future!*\n",
    "\n",
    "### 💬 Learning outcomes\n",
    "* How to interact with Jupyter and how to edit a Jupyter Notebook\n",
    "* How to create snippets of code, how to run them etc.\n",
    "* How to display Matplotlib graphs\n",
    "* What is the CyberChallenge.it library and how to use it\n",
    "* Where you can find the documentation you will most likely need"
   ]
  },
  {
   "cell_type": "markdown",
   "id": "6a579106",
   "metadata": {},
   "source": [
    "## 📑 Table of Contents\n",
    "1. [What is Jupyter Notebook? ⚙️](#what)\n",
    "    1. [Everything is a cell 📚](#everything)\n",
    "    2. [A quick experiment 🧪](#experiment)\n",
    "    3. [Executing code ▶️](#executing)    \n",
    "    4. [Executing built-in magic commands 🪄](#builtin)\n",
    "    5. [Tips and tricks 🧙‍♂️](#tips)\n",
    "2. [Creating graphs with matplotlib 📊](#matplotlib)\n",
    "    1. [Drawing a static plot 📊](#static)\n",
    "    2. [Drawing an interactive plot 📊](#interactive)\n",
    "3. [The CyberChallenge Library ⚔️🛡️](#cclib)\n",
    "4. [Conclusions](#conclusions)"
   ]
  },
  {
   "cell_type": "markdown",
   "id": "4c1b5b3a",
   "metadata": {},
   "source": [
    "## 1) What is Jupyter Notebook? ⚙️ <a class=\"anchor\" id=\"what\"></a>\n",
    "\n",
    "[Jupyter Notebook](https://jupyter-notebook.readthedocs.io/en/stable/notebook.html) is a web application used to write highly-interactive, shareable web documents.\n",
    "\n",
    "**You are using it right now!** The text you are looking at is a part of the overall document called `01-Learning to fly.ipynb`. It's like having a Word document, just much modular and interactive, accessible via every web browser. The extension used by Notebooks is `.ipynb`, which stands for **iPy**thon **N**ote**B**ooks (iPython is an interactive Python shell, on which Jupyter is based on).\n",
    "\n",
    "Navigate both Jupyter's toolbar and menubar. In `Help` --> `User Interface Tour` you will get a good overview of what Jupyter offers you. \n",
    "\n",
    "### 1.1) In Jupyter, everything is a cell 📚 <a class=\"anchor\" id=\"everything\"></a>\n",
    "Cells are what make Jupyter documents so powerful.\n",
    "\n",
    "In a notebook cell you can:\n",
    "* Write [Markdown code](https://enterprise.github.com/downloads/en/markdown-cheatsheet.pdf)  \n",
    "    > *The same used to write `README.md` files on GitHub/GitLab, and the same you are reading right now.*\n",
    "\n",
    "* Write [LaTeX code](https://www.overleaf.com/learn)  \n",
    "    > *Like the formula $E = mc^2$*\n",
    "\n",
    "* Insert code snippets  \n",
    "    > *Like the ones you will see below*\n",
    "    \n",
    "* Have interactive graphs, images, [links](https://www.youtube.com/watch?v=dQw4w9WgXcQ), etc..."
   ]
  },
  {
   "cell_type": "markdown",
   "id": "968cabfc",
   "metadata": {},
   "source": [
    "### 1.2) A quick experiment 🧪 <a class=\"anchor\" id=\"experiment\"></a>\n",
    "\n",
    "1. Double click anywhere **in the above cell**. Done?\n",
    "\n",
    "> You should now see the source Markdown code used to write it. If you never wrote Markdown, this is the perfect time to [learn some tricks!](https://enterprise.github.com/downloads/en/markdown-cheatsheet.pdf).\n",
    "\n",
    "2. Do you want to render the text as before? Press `Shift` + `Enter` to \"run\" the current cell/section, or click the `▶️ Run` button in the Jupyter toolbar.\n",
    "\n",
    "> Jupyter has now executed the cell and its content is rendered as a text section.\n",
    "\n",
    "> Notice that there's a colored border changing from <span style=\"color:DodgerBlue;\">blue</span> to <span style=\"color:MediumSeaGreen;\">green</span> (and viceversa) on the left of the cell. The <span style=\"color:MediumSeaGreen;\">green</span> border indicates you are in `edit-mode`, meaning you can edit the source code of the cell, the <span style=\"color:DodgerBlue;\">blue</span> border indicates what is the current cell ready to run (basically, it's your cell pointer)."
   ]
  },
  {
   "cell_type": "markdown",
   "id": "3b47059f",
   "metadata": {},
   "source": [
    "### 1.3) Executing code in Jupyter Notebooks ▶️ <a class=\"anchor\" id=\"executing\"></a>\n",
    "Below you can find a cell containing Python code, run it using `Shift`+`Enter` (or click the `▶️ Run` button).\n",
    "How do you know the one below is code and not Markdown? Actually, the cell can do both, you just need to tell it.\n",
    "* If you press `m` when the cell is selected (<span style=\"color:DodgerBlue;\">blue</span> border), the content will be interpreted as Markdown.\n",
    "* If you press `y`, the content will be interpreted as code."
   ]
  },
  {
   "cell_type": "code",
   "execution_count": null,
   "id": "7a208645",
   "metadata": {},
   "outputs": [],
   "source": [
    "i = 0"
   ]
  },
  {
   "cell_type": "markdown",
   "id": "47d7dbfb",
   "metadata": {},
   "source": [
    "Here you go, you just declared the variable `i`, having value `0`. Now continue executing the cell below."
   ]
  },
  {
   "cell_type": "code",
   "execution_count": null,
   "id": "18a8ce6d",
   "metadata": {},
   "outputs": [],
   "source": [
    "i += 1\n",
    "print(f\"Value of 'i': {i}\")"
   ]
  },
  {
   "cell_type": "markdown",
   "id": "d9a9f7f2",
   "metadata": {},
   "source": [
    "See? The value of `i` is kept \"global\", meaning you can now reference `i` in all the code cells inside this notebook. Moreover, you can run each cell multiple times. If you run the cell above once again you can increment the value of `i` again and again.\n",
    "\n",
    "To wrap it up, you can add a cell **b**elow this one, using the `b` shortcut. Or **a**bove using the `a` shortcut. To **d**elete a cell, use the `dd` shortcut (press `d` two consecutive times). To undo the deletion, use `z`."
   ]
  },
  {
   "cell_type": "markdown",
   "id": "61fff9da",
   "metadata": {},
   "source": [
    "**And that's basically it, give yourself a pat on the shoulder.** 👏"
   ]
  },
  {
   "cell_type": "markdown",
   "id": "597dd45b",
   "metadata": {},
   "source": [
    "### 1.4) Executing built-in magic commands 🪄 <a class=\"anchor\" id=\"builtin\"></a>\n",
    "Notebook cells can also run special commands, called \"magic\", such as `%pwd`, `%matplotlib` (inline mode) or `%%bash` (cell mode).\n",
    "You can find an exhaustive list of all the admitted directives [here](https://ipython.readthedocs.io/en/stable/interactive/magics.html) (some of them may not work in this CyberChallenge environment)."
   ]
  },
  {
   "cell_type": "code",
   "execution_count": null,
   "id": "9805053c",
   "metadata": {},
   "outputs": [],
   "source": [
    "%pwd"
   ]
  },
  {
   "cell_type": "markdown",
   "id": "84065a1d",
   "metadata": {},
   "source": [
    "The `%run` directive can be used to launch notebooks from within a notebook"
   ]
  },
  {
   "cell_type": "code",
   "execution_count": null,
   "id": "85e31cb8",
   "metadata": {},
   "outputs": [],
   "source": [
    "%run \"99-helloWorld_notebook.ipynb\""
   ]
  },
  {
   "cell_type": "markdown",
   "id": "7a01529d",
   "metadata": {},
   "source": [
    "### 1.5) Tips and Tricks 🧙‍♂️ <a class=\"anchor\" id=\"tips\"></a>\n",
    "* The `Help` menu is extremely useful: it collects a bunch of links pointing to the doc pages of `matplotlib`, `numpy`, `pandas` etc...\n",
    "\n",
    "* In `View` you can toggle `on` or `off` both the header and the toolbar, so to save some extra vertical space on your screen."
   ]
  },
  {
   "cell_type": "markdown",
   "id": "73f8272a",
   "metadata": {},
   "source": [
    "To enlarge the document area so as to occupy your entire horizontal space, run the following.\n",
    "**This will be quite useful when interacting with graphs created with matplotlib!**"
   ]
  },
  {
   "cell_type": "code",
   "execution_count": null,
   "id": "887d9f70",
   "metadata": {},
   "outputs": [],
   "source": [
    "from IPython.display import display, HTML\n",
    "display(HTML(\"<style>.container { width:100% !important; }</style>\"))\n",
    "display(\"text/html\", \"<style>.container { width:100% !important; }</style>\")"
   ]
  },
  {
   "cell_type": "markdown",
   "id": "0f3bd827",
   "metadata": {},
   "source": [
    "By default, Jupyter collapses the height of a cell if the cell is printing an overly long output. While this makes perfectly sense, sometimes you may want to visualize the entire output all at once. To do so, run the following:"
   ]
  },
  {
   "cell_type": "code",
   "execution_count": null,
   "id": "2583d392",
   "metadata": {},
   "outputs": [],
   "source": [
    "%%javascript\n",
    "IPython.OutputArea.auto_scroll_threshold = 9999;"
   ]
  },
  {
   "cell_type": "markdown",
   "id": "a95186af",
   "metadata": {},
   "source": [
    "## 2) Creating graphs with `matplotlib` 📊 <a class=\"anchor\" id=\"matplotlib\"></a>\n",
    "\n",
    "`matplotlib` is the main graphic library we are going to use in all our tutorials. \n",
    "\n",
    "I'll leave you here some extremely useful documentation:\n",
    "* [matplotlib's usage FAQs](https://matplotlib.org/2.0.2/faq/usage_faq.html)  \n",
    "    > Although referring to an old version of the library, these FAQs are probably the most useful tutorial you can find on both the terminology and the object hierarchy behind matplotlib (and I can guarantee you, some terms are really misleading). Rember to check this FAQ first if you want to go your own way and experiment with this library.\n",
    "* [matplotlib's users guide](https://matplotlib.org/stable/users/index.html)  \n",
    "    > Mainpage of the documentation\n",
    "* [matplotlib's plot types collection](https://matplotlib.org/stable/plot_types/index.html)  \n",
    "    > See all the possible graphs you can create in a glance\n",
    "* [matplotlib's plot examples](https://matplotlib.org/stable/gallery/index.html)  \n",
    "    > Here you can take inspiration to create your own graphs"
   ]
  },
  {
   "cell_type": "markdown",
   "id": "4cd89c76",
   "metadata": {},
   "source": [
    "### 2.1) Drawing a static plot 📊 <a class=\"anchor\" id=\"static\"></a>\n",
    "Below you can find a simple plot created with `matplotlib`. The code shown will be sufficient for most of our purposes. You can of course play with the library and create way more complex and pleasing representations.\n",
    "\n",
    "#### Use this example as a playground, use it as an excuse to read and understand the given documentation:\n",
    "\n",
    "* Try to play with the plot lines. Can you change their color? Their shape? What about all the unlisted arguments you can pass to `plt.plot` function ?\n",
    "* Try to play with the data represented. What about creating an equispaced list for the data on the X axis? Can you represent the sine function of it?"
   ]
  },
  {
   "cell_type": "code",
   "execution_count": null,
   "id": "2bcb1bda",
   "metadata": {},
   "outputs": [],
   "source": [
    "# Import the library, pyplot is the main ready-to-plot engine\n",
    "import matplotlib.pyplot as plt\n",
    "\n",
    "# Create a figure, in which you will place your plot\n",
    "plt.figure(figsize=[8,6])\n",
    "\n",
    "# Create the two graphs, give the lines a tab:blue and tab:orange color, add a label each, to be added to the legend\n",
    "plt.plot([1, 2, 3, 4, 5, 6], [2, 4, 8, 16, 32, 64], \"tab:blue\", label=\"Power of 2\")\n",
    "plt.plot([1, 2, 3, 4, 5, 6], [1, 1, 2, 3, 5, 8], \"tab:orange\", label=\"Fibonacci's sequence\")\n",
    "\n",
    "# Create the legend and its title, the labels will be automatically fetched from the above lines\n",
    "plt.legend(title=f\"My very first matplotlib graph\")\n",
    "# Add a grid to both axis, 20% opaque\n",
    "plt.grid(visible=True, which='major', axis='both', alpha=0.2)\n",
    "\n",
    "# Print the plot\n",
    "plt.show()"
   ]
  },
  {
   "cell_type": "markdown",
   "id": "3c5b8a94",
   "metadata": {},
   "source": [
    "### 2.2) Drawing an interactive plot 📊 <a class=\"anchor\" id=\"interactive\"></a>\n",
    "Here I will copy paste the exact same code as before, but I will add you the *magic* line `%matplotlib notebook` at the top of the cell. I will also reduce the size of the figure a little bit."
   ]
  },
  {
   "cell_type": "code",
   "execution_count": null,
   "id": "4cb7f2b2",
   "metadata": {},
   "outputs": [],
   "source": [
    "%matplotlib notebook\n",
    "import matplotlib.pyplot as plt\n",
    "\n",
    "plt.figure(figsize=[4,2])\n",
    "\n",
    "plt.plot([1, 2, 3, 4, 5, 6], [2, 4, 8, 16, 32, 64], \"tab:blue\", label=\"Power of 2\")\n",
    "plt.plot([1, 2, 3, 4, 5, 6], [1, 1, 2, 3, 5, 8], \"tab:orange\", label=\"Fibonacci's sequence\")\n",
    "\n",
    "plt.legend(title=f\"My very first matplotlib graph\")\n",
    "plt.grid(visible=True, which='major', axis='both', alpha=0.2)\n",
    "plt.show()"
   ]
  },
  {
   "cell_type": "markdown",
   "id": "da25b329",
   "metadata": {},
   "source": [
    "As you can see, the frame of the image is now interactive.\n",
    "\n",
    "1. On the bottom right corner of the figure there's a little handle, you can grab it with the mouse and expand or collapse the figure;  \n",
    "2. On the bottom side you have a `Save` (floppy disk) icon, you can use it to save an image of your plot;\n",
    "> some months ago this feature was quite bugged, I used the screen capture tool instead, way more reliable\n",
    "    \n",
    "3. On the left of the `Save` icon you have a magnifier tool: use it to draw a rectangle and zoom into the picture;  \n",
    "> this is quite handy, I guarrantee you you will use it a lot\n",
    "    \n",
    "4. Use the `On/Off` icon on the top right corner to \"freeze\" the image and make it static.  "
   ]
  },
  {
   "cell_type": "markdown",
   "id": "b972f180",
   "metadata": {},
   "source": [
    "## 3) The CyberChallenge Library ⚔️🛡️ <a class=\"anchor\" id=\"cclib\"></a>\n",
    "**Finally! Enough with the basics, I can finally show you some of my work!**\n",
    "\n",
    "As I mentioned in the previous notebook, all the tutorials will leverage a Python library. This library will allow us to connect to the remote ChipWhisperer board and capture some power traces from the device under attack (an ARM 32-bit microcontroller), which is phisically connected to it. Once we have all the data we need, we can proceed with the offline attack, trying to retrieve the secret key.\n",
    "\n",
    "Below you can find the bare minimum code to request a remote trace capture.\n",
    "\n",
    "### 3.1) ⚠️ DISCLAIMER ⚠️\n",
    "**If you are getting lost or something is starting to become \"too much\", don't worry, we will see everything in detail in the next tutorials.**\n",
    "\n",
    "As for now, I just need you to *roughly* understand what is happening here."
   ]
  },
  {
   "cell_type": "code",
   "execution_count": null,
   "id": "33d1445d",
   "metadata": {},
   "outputs": [],
   "source": [
    "# Import the CyberChallenge library\n",
    "from cyberchallenge_client import ccclient"
   ]
  },
  {
   "cell_type": "markdown",
   "id": "c3029172",
   "metadata": {},
   "source": [
    "The `URL`, `PORT` and `YOUR_TOKEN` information are provided to you in your cyberchallenge.it personal portal. Don't change them, of course."
   ]
  },
  {
   "cell_type": "code",
   "execution_count": null,
   "id": "d5a87628",
   "metadata": {},
   "outputs": [],
   "source": [
    "# Create a \"connection\" object\n",
    "# Use the Shift+Tab shortcut to open the completion hints (and the documentation)\n",
    "# YOU MUST RUN THE PREVIOUS SNIPPET to have a working autocompletion pop-up\n",
    "connection = ccclient.Utility(str(URL), int(PORT), str(YOUR_TOKEN))"
   ]
  },
  {
   "cell_type": "code",
   "execution_count": null,
   "id": "6c87f6c9",
   "metadata": {},
   "outputs": [],
   "source": [
    "# Launch a capture request, with this command we are actually connecting to the server and the ChipWhisperer board attached to it\n",
    "# Use the Shift+Tab shortcut to open the completion hints (and the documentation)\n",
    "# YOU MUST RUN THE PREVIOUS SNIPPET to have a working autocompletion pop-up\n",
    "# Let's capture a single trace\n",
    "ccclient.default_capture_config[\"num_traces\"] = 1\n",
    "(state, project) = connection.capture_request(\"firestarter\", 60, ccclient.default_capture_config)"
   ]
  },
  {
   "cell_type": "markdown",
   "id": "4ad9475f",
   "metadata": {},
   "source": [
    "And that's it, if everything worked well, the `state` variable should be `True` and your captured traces should be saved in the `project` object."
   ]
  },
  {
   "cell_type": "markdown",
   "id": "fffd2904",
   "metadata": {},
   "source": [
    "# 4) Conclusions <a class=\"anchor\" id=\"conclusions\"></a>\n",
    "Your first notebook concludes here! Now you can head to the next one, explaining what is Side-Channel Analysis.\n",
    "\n",
    "Do you have suggestions, doubts or simply need to reach me?\n",
    "* 🐦 Twitter: `[at]mrcuve0`\n",
    "* 💬 Discord: `Mrcuve0#4179`\n",
    "* 💻 GitHub:  `Mrcuve0`\n",
    "* 📬 Email: `mrcuve0 [at] posteo [d.ot] net`\n",
    "* 💼 LinkedIn:\n",
    "> Please, send me a message via the previous methods before asking for my LinkedIn"
   ]
  },
  {
   "cell_type": "markdown",
   "id": "8e95b0c5",
   "metadata": {},
   "source": [
    "---\n",
    "Copyright ©️ [CINI - Cybersecurity National Lab](https://cybersecnatlab.it/) - Torino, 2022.\n",
    "\n",
    "> This material is a derivative work of [NewAE's official Jupyter Notebooks](https://github.com/newaetech/chipwhisperer-jupyter), distributed under the open-source GPL license. You can distribute and modify this material (even for commercial trainings), provided you maintain references to this repository and the original authors, and also offer your derived material under the same conditions.\n",
    "\n",
    "\n",
    "ChipWhisperer is a trademark of NewAE Technology Inc., claimed in all jurisdictions, and registered in at least the United States of America, European Union, and Peoples Republic of China.\n",
    "\n",
    "All other product names, logos, and brands are property of their respective owners.\n",
    "\n",
    "The software is provided 'as is', without warranty of any kind, express or implied, including but not limited to the warranties of merchantability, fitness for a particular purpose and noninfringement. In no event shall the authors or copyright holders be liable for any claim, damages or other liability, whether in an action of contract, tort or otherwise, arising from, out of or in connection with the software or the use or other dealings in the software."
   ]
  }
 ],
 "metadata": {
  "kernelspec": {
   "display_name": "Python 3 (ipykernel)",
   "language": "python",
   "name": "python3"
  },
  "language_info": {
   "codemirror_mode": {
    "name": "ipython",
    "version": 3
   },
   "file_extension": ".py",
   "mimetype": "text/x-python",
   "name": "python",
   "nbconvert_exporter": "python",
   "pygments_lexer": "ipython3",
   "version": "3.10.2"
  }
 },
 "nbformat": 4,
 "nbformat_minor": 5
}
