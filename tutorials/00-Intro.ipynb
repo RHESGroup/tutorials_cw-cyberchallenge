{
 "cells": [
  {
   "cell_type": "markdown",
   "id": "4a57c187",
   "metadata": {},
   "source": [
    "<img src=\"./img/CCIT_Logo.png\" alt=\"CCit Logo\" width=400>"
   ]
  },
  {
   "cell_type": "markdown",
   "id": "3283f37d",
   "metadata": {},
   "source": [
    "# 🔥 Welcome to the HW Security Module 3!"
   ]
  },
  {
   "cell_type": "markdown",
   "id": "80a40aa2",
   "metadata": {},
   "source": [
    "## 📑 Table of Contents\n",
    "1. [whoami 👀](#whoami)\n",
    "    1. [Trivia](#whoami_trivia)\n",
    "2. [whereis 🔎](#whereis)\n",
    "3. [FAQs ❓➡️❗](#faqs)\n",
    "4. [Course Syllabus 📑](#syllabus)\n",
    "    1. Jupyter Notebooks\n",
    "    2. Tranining CTFs\n",
    "    3. Official Jeopardy CTFs"
   ]
  },
  {
   "cell_type": "markdown",
   "id": "4255b24e",
   "metadata": {},
   "source": [
    "## 1) `> whoami` 👀 <a class=\"anchor\" id=\"whoami\"></a>"
   ]
  },
  {
   "cell_type": "markdown",
   "id": "d8407214",
   "metadata": {},
   "source": [
    "> ##### Hi! I'm @Mrcuve0!\n",
    "> I'm the author of these tutorials on Side-Channel Analysis, of the backend software and of the related CTFs you will practice on. So, if something goes wrong or things don't work as intended, [I'm the person to blame](https://i.kym-cdn.com/photos/images/original/001/401/347/312.jpg).\n",
    ">\n",
    "> I wanted these tutorials to be highly interactive and effective, giving you hints, suggestions and helping you avoiding common time-wasting traps. I will provide you extra (as in **extr**emely useful) material, just in case you want to learn even more.\n",
    ">\n",
    "> I'll try not to leave anything for granted, addressing the various topics step by step. In case something is not clear to you, I suggest you ask your professor, discuss with your friends, or search on the internet.\n",
    ">\n",
    "> Enjoy this journey!\n",
    "\n",
    "### 1.1) Trivia:\n",
    "> As you will see in a moment, most of the tutorials are built around questions and answers, like an imaginary dialogue among you, the reader, and me, the \"teacher\".\n",
    ">\n",
    "> This is not unseen, I actually took inspiration from the wonderful book *Le transistor? Mais c'est trés simple!* by *E. Aisberg*. In italy, you can find it by the name [*Il transistore? È una cosa semplicissima!*](https://ia802809.us.archive.org/8/items/iltransistoreeunacosasemplicissima/Il%20transistore%20%C3%A8%20una%20cosa%20semplicissima%21_text.pdf).\n",
    "> I deeply believe this is how you should create entertainment and try to keep a constant focus from the reader.\n",
    ">\n",
    "> Below a simple image of the two protagonists of the book.\n",
    "\n",
    "<img src=\"./img/00-Intro/Curioso_Ignoto.png\" alt=\"Curioso e Ignoto\" width=400>"
   ]
  },
  {
   "cell_type": "markdown",
   "id": "30a00f99",
   "metadata": {},
   "source": [
    "## 2) `> whereis Mrcuve0` 🔎 <a class=\"anchor\" id=\"whereis\"></a>"
   ]
  },
  {
   "cell_type": "markdown",
   "id": "f555a525",
   "metadata": {},
   "source": [
    "If you ever need to reach me, here's how you can do it:\n",
    "* 🐦 Twitter: `[at]mrcuve0`\n",
    "* 💬 Discord: `Mrcuve0#4179`\n",
    "* 💻 GitHub:  `Mrcuve0`\n",
    "* 📬 Email: `mrcuve0 [at] posteo [d.ot] net`\n",
    "* 💼 LinkedIn:\n",
    "> Please, send me a message via the previous methods before asking for my LinkedIn\n",
    "\n",
    "> ⚠️ No, I will not give you the flags or any hint for the CTFs, so avoid writing me for this 🙃"
   ]
  },
  {
   "cell_type": "markdown",
   "id": "c1a2b310",
   "metadata": {},
   "source": [
    "## 3) FAQs ❓➡️❗<a class=\"anchor\" id=\"faqs\"></a>"
   ]
  },
  {
   "cell_type": "markdown",
   "id": "05d728f4",
   "metadata": {},
   "source": [
    "### 3.1) What's my purpose?\n",
    "\n",
    "Well, if you are reading this, it means you won the admission test, so I guess you definitely have a purpose to be here! Be proud of you!"
   ]
  },
  {
   "cell_type": "markdown",
   "id": "f33b7c84",
   "metadata": {},
   "source": [
    "### 3.2) What are we going to learn?\n",
    "The purpose of the Hardware Security Module 3 is to learn about Side-Channel Attacks on hardware components. Side-Channel Analysis is one of the most powerful attacks hardware hackers and researchers can leverage."
   ]
  },
  {
   "cell_type": "markdown",
   "id": "8be6eec1",
   "metadata": {},
   "source": [
    "### 3.3) Why Side-Channel Attacks?\n",
    "Consider the pervasiveness and physical proximity we have with everyday IoT and embedded devices like sensors, security cameras, smartcards, NFC tokens, cryptocurrency hardware wallets, bluetooth devices, smartphones, laptops etc...\n",
    "\n",
    "We are basically [overwhelmed by this kind of devices](https://twitter.com/internetofshit), I bet you can find a portable hardware device within one or two meters from your current position. The ever increasing trend in IoT and low-power interconnected devices is demanding more and more hardware security and data protection experts. You may become one of these experts one day, sounds cool huh?"
   ]
  },
  {
   "cell_type": "markdown",
   "id": "f916d098",
   "metadata": {},
   "source": [
    "### 3.4) Ok, but are Side-Channel Attacks really that important?\n",
    "Well, a bit, but just a little bit. Do you sense enough sarcasm or shall I continue?\n",
    "\n",
    "Does [**Meltdown** and **Spectre**](https://meltdownattack.com/) tell you something? Well, I bet they are, there were even reports on the television news in January 2018.\n",
    "\n",
    "Although the term *Side-Channel Analysis* refers to a huge universe of attacks, with some of them as old as World War II, their importance in the IT industry is at an all-time high."
   ]
  },
  {
   "cell_type": "markdown",
   "id": "906c57bc",
   "metadata": {},
   "source": [
    "### 3.5) You convinced me, so what are we going to do? What's the syllabus?\n",
    "In this course I will give you the basics of Side-Channel Analysis. You will learn what is Power Analysis and how it works, what we can achieve with it and what are the main attacks.\n",
    "\n",
    "You will also learn how to solve CTFs on the topic.\n",
    "\n",
    "You can find the syllabus at the end of this Jupyter Notebook."
   ]
  },
  {
   "cell_type": "markdown",
   "id": "646341bd",
   "metadata": {},
   "source": [
    "### 3.6) Do I need special hardware, an oscilloscope or something? Do I need a powerful PC?\n",
    "Nothing of the above is needed, this is CyberChallenge.it! 😎\n",
    "\n",
    "* We provide you all the tutorials as Jupyter Notebooks. This is the introductory one, for instance.\n",
    "* Your 5-year old laptop (and even older) is perfectly fine, you don't need the latest EPYC to run our tutorials.\n",
    "* You don't need any extra hardware! However, this does not mean you will not interact with it. Through the various tutorials and CTFs, you will play with a [ChipWhisperer hardware board](https://www.newae.com/chipwhisperer) connected to CyberChallenge's server.\n"
   ]
  },
  {
   "cell_type": "markdown",
   "id": "c5e311ff",
   "metadata": {},
   "source": [
    "### 3.7) [🛑 IMPORTANT 🛑] PLEASE, read below. TLDR: don't break anything, be nice to everyone.\n",
    "As I mentioned above, every interaction with the hardware board itself will happen through CyberChallenge's server and the software backend I wrote for the purpose.\n",
    "\n",
    "This is the first year we are including Side-Channel Analysis in the syllabus. So please, be patient, be kind with the infrastructure, and don't try to DDoS or hack it. **YOU WILL FACE CONSEQUENCES**.\n",
    "\n",
    "If any error appears, or you face some extended downtime, please write in the Discord server and report the error you are facing: this will help us solve the issue for you and your friends! We all learn by doing!"
   ]
  },
  {
   "cell_type": "markdown",
   "id": "d86b370b",
   "metadata": {},
   "source": [
    "## 4) Course Syllabus 📑 <a class=\"anchor\" id=\"syllabus\"></a>"
   ]
  },
  {
   "cell_type": "markdown",
   "id": "f888bfc8",
   "metadata": {},
   "source": [
    "### 📚 Jupyter Notebooks\n",
    "* [00-Intro](./00-Intro.ipynb)\n",
    "* [01-Learning to fly](./01-Learning%20to%20fly.ipynb)\n",
    "* [02-Intro to SCA](./02-Intro%20to%20SCA.ipynb)\n",
    "* [03-Simple Power Analysis](./03-Simple%20Power%20Analysis.ipynb)\n",
    "* [04-Differential Power Analysis](./04-Differential%20Power%20Analysis.ipynb)\n",
    "* [05-Correlation Power Analysis](./05-Correlation%20Power%20Analysis.ipynb)\n",
    "* [06-Countermeasures](./06-Countermeasures.ipynb)\n",
    "\n",
    "### 🛡️ CTFs!!"
   ]
  },
  {
   "cell_type": "markdown",
   "id": "000913d8",
   "metadata": {},
   "source": [
    "---\n",
    "Copyright ©️ [CINI - Cybersecurity National Lab](https://cybersecnatlab.it/) - Torino, 2022.\n",
    "\n",
    "> This material is a derivative work of [NewAE's official Jupyter Notebooks](https://github.com/newaetech/chipwhisperer-jupyter), distributed under the open-source GPL license. You can distribute and modify this material (even for commercial trainings), provided you maintain references to this repository and the original authors, and also offer your derived material under the same conditions.\n",
    "\n",
    "\n",
    "ChipWhisperer is a trademark of NewAE Technology Inc., claimed in all jurisdictions, and registered in at least the United States of America, European Union, and Peoples Republic of China.\n",
    "\n",
    "All other product names, logos, and brands are property of their respective owners.\n",
    "\n",
    "The software is provided 'as is', without warranty of any kind, express or implied, including but not limited to the warranties of merchantability, fitness for a particular purpose and noninfringement. In no event shall the authors or copyright holders be liable for any claim, damages or other liability, whether in an action of contract, tort or otherwise, arising from, out of or in connection with the software or the use or other dealings in the software."
   ]
  }
 ],
 "metadata": {
  "kernelspec": {
   "display_name": "Python 3 (ipykernel)",
   "language": "python",
   "name": "python3"
  },
  "language_info": {
   "codemirror_mode": {
    "name": "ipython",
    "version": 3
   },
   "file_extension": ".py",
   "mimetype": "text/x-python",
   "name": "python",
   "nbconvert_exporter": "python",
   "pygments_lexer": "ipython3",
   "version": "3.10.2"
  }
 },
 "nbformat": 4,
 "nbformat_minor": 5
}
